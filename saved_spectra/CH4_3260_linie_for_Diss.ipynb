{
 "cells": [
  {
   "cell_type": "markdown",
   "id": "9751521f",
   "metadata": {},
   "source": [
    " ## CH4 Spectra to do wavelength calibration and understand sensitvity tuning"
   ]
  },
  {
   "cell_type": "markdown",
   "id": "3f97162e",
   "metadata": {},
   "source": [
    "### Workflow \n",
    "\n",
    "     1. initiate a 'Spectra' object\n",
    "     2. add observer\n",
    "     3. add gass_cells & gasses\n",
    "     4. download data (runs the hapi functions)\n",
    "     5. plot\n",
    "    \n",
    "    comment: the arguments of the gas_cell method are the default values as on spectracalc.com\n",
    "             ! when using multiple gas cells, the spectra are calculated seperately and plotted on top of each other. (Not combined absorption as in spectracalc)"
   ]
  },
  {
   "cell_type": "code",
   "execution_count": 1,
   "id": "5e742d6b",
   "metadata": {},
   "outputs": [],
   "source": [
    "%%capture\n",
    "%load_ext autoreload\n",
    "%autoreload 2\n",
    "import os\n",
    "os.chdir('..')\n",
    "from classes import Spectra, Observer, HiddenPrints"
   ]
  },
  {
   "cell_type": "code",
   "execution_count": 2,
   "id": "67a18653",
   "metadata": {},
   "outputs": [],
   "source": [
    "%%capture\n",
    "#%% 1. create a spectrum\n",
    "my_spectrum = Spectra(name = 'CH4_STP')\n",
    "\n",
    "#%% 2. add an observer\n",
    "my_spectrum.observer = Observer(unit  = 'lam',      #'wav' : wavenumer [1/cm] | 'lam' : wavelength [nm].\n",
    "                                lower =  3259.2,    \n",
    "                                upper =  3261.5,   \n",
    "                                )\n",
    "#%% 3. add gas_cells (may consist of multiple gasses) with gasses\n",
    "# cell 0\n",
    "my_spectrum.add_gas_cell(temperature    = 296,          # K. Default is 296\n",
    "                         pressure       = 1,            # atm. Default is 1\n",
    "                         length         = 100,           # cm. Default is 10\n",
    "                         no_gasses      = 1)            # number of gasses. Default is 1\n",
    "\n",
    "my_spectrum.gas_cells[-1].add_gas(gas_name  = \"CH4\",    # as in hitran\n",
    "                                VMR        = 4E-6)    # E-6 = ppm \n",
    "'''\n",
    "# cell 1\n",
    "my_spectrum.add_gas_cell(temperature    = 296,          # K. Default is 296\n",
    "                         pressure       = 1,            # atm. Default is 1\n",
    "                         length         = 100,           # cm. Default is 10\n",
    "                         no_gasses      = 1)            # number of gasses. Default is 1\n",
    "my_spectrum.gas_cells[-1].add_gas(gas_name  = \"H2O\",    # as in hitran\n",
    "                                VMR        = 1.7E-2)    # E-6 = ppm \n",
    "'''\n",
    "#%% 4. download (running hapi functions)\n",
    "my_spectrum.download(line_list = False,         # by setting to false, the linelist will nor be downloaded nor plotted.\n",
    "                     step      = 0.001         # The step size determines the resolution of the graph. It is in the unit of wavenumbers (1/cm).\n",
    "                    )  \n",
    "\n"
   ]
  },
  {
   "cell_type": "markdown",
   "id": "4413c1f6",
   "metadata": {},
   "source": [
    "To double check that everything is as desired, you can print a summary of your setup."
   ]
  },
  {
   "cell_type": "markdown",
   "id": "3a7788ff",
   "metadata": {},
   "source": [
    "The plot function may be adjusted to ones needs.\n",
    "If line list has not been downloaded (step 4), it will not be plotted."
   ]
  },
  {
   "cell_type": "code",
   "execution_count": 3,
   "id": "9bf51444",
   "metadata": {},
   "outputs": [
    {
     "name": "stdout",
     "output_type": "stream",
     "text": [
      "Summary of the spectum CH4_STP: \n",
      "\t lower: 3259.2 [nm] \n",
      "\t upper: 3261.5 [nm] \n",
      "Gas cell 0: \n",
      "\t length: 100 cm | temp: 296 K|pressure: 1 atm|gas matrix: {'air': 0.999996, 'self': 4e-06} \n",
      "\t Gasses (VMR): \n",
      "\t \t CH4: 4e-06 \n",
      "\n"
     ]
    },
    {
     "data": {
      "image/png": "[encoded data removed]",
      "text/plain": [
       "<Figure size 280x234.075 with 1 Axes>"
      ]
     },
     "metadata": {
      "needs_background": "light"
     },
     "output_type": "display_data"
    }
   ],
   "source": [
    "#%% 5. plot\n",
    "# Set the locale to one that uses comma as the decimal separator\n",
    "from scipy.stats import linregress # normal linear regression\n",
    "import matplotlib\n",
    "import locale\n",
    "locale.setlocale(locale.LC_ALL, 'de_DE')\n",
    "\n",
    "matplotlib.rcParams['axes.formatter.use_locale'] = True\n",
    "\n",
    "\n",
    "# Read in my configs\n",
    "import configparser\n",
    "import matplotlib\n",
    "config = configparser.ConfigParser()\n",
    "config.read('C:/Users/i09300096/OneDrive - Endress+Hauser/Python/Figures_git/uni_layout_rc')\n",
    "matplotlib.rcParams.update(config['halfsize'])\n",
    "import locale\n",
    "locale.setlocale(locale.LC_ALL, 'de_DE')\n",
    "\n",
    "matplotlib.rcParams['axes.formatter.use_locale'] = True\n",
    "\n",
    "\n",
    "import matplotlib.pyplot as plt\n",
    "import numpy as np\n",
    "\n",
    "ax = my_spectrum.plot(figsize=(2.8, 2.340748495),\n",
    "                 export = True,\n",
    "                 fontsize = 10,\n",
    "                 absorbance = False,\n",
    "                 language=\"German\",\n",
    "                transmission = True\n",
    "                )\n",
    "ax.set_ylim([95, 101])\n",
    "#ax.grid()\n",
    "print(my_spectrum)"
   ]
  },
  {
   "cell_type": "code",
   "execution_count": 4,
   "id": "8e6d5fd2",
   "metadata": {},
   "outputs": [
    {
     "name": "stdout",
     "output_type": "stream",
     "text": [
      "Exported the absorption data to: exports\n"
     ]
    }
   ],
   "source": [
    "#%% 6. export\n",
    "# exports a text file containing the infomration about the spectrum and the gas cells.\n",
    "\n",
    "my_spectrum.export(directory = 'exports') # default directory is 'exports'"
   ]
  },
  {
   "cell_type": "code",
   "execution_count": null,
   "id": "1a808ac9",
   "metadata": {},
   "outputs": [],
   "source": []
  }
 ],
 "metadata": {
  "kernelspec": {
   "display_name": "Python 3 (ipykernel)",
   "language": "python",
   "name": "python3"
  },
  "language_info": {
   "codemirror_mode": {
    "name": "ipython",
    "version": 3
   },
   "file_extension": ".py",
   "mimetype": "text/x-python",
   "name": "python",
   "nbconvert_exporter": "python",
   "pygments_lexer": "ipython3",
   "version": "3.12.2"
  }
 },
 "nbformat": 4,
 "nbformat_minor": 5
}
