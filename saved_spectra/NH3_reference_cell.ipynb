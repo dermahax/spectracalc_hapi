{
 "cells": [
  {
   "cell_type": "markdown",
   "id": "790c2333",
   "metadata": {},
   "source": [
    "## NH3 reference cell around 2928 nm"
   ]
  },
  {
   "cell_type": "markdown",
   "id": "7686c459",
   "metadata": {},
   "source": [
    "### Workflow \n",
    "\n",
    "     1. initiate a 'Spectra' object\n",
    "     2. add observer\n",
    "     3. add gass_cells & gasses\n",
    "     4. download data (runs the hapi functions)\n",
    "     5. plot\n",
    "    \n",
    "    comment: the arguments of the gas_cell method are the default values as on spectracalc.com\n",
    "             ! when using multiple gas cells, the spectra are calculated seperately and plotted on top of each other. (Not combined absorption as in spectracalc)"
   ]
  },
  {
   "cell_type": "code",
   "execution_count": 31,
   "id": "aaf587a9",
   "metadata": {},
   "outputs": [
    {
     "name": "stdout",
     "output_type": "stream",
     "text": [
      "Using data\n",
      "\n",
      "CH4\n",
      "                     Lines parsed: 164\n",
      "H2O\n",
      "                     Lines parsed: 100\n",
      "NH3\n",
      "                     Lines parsed: 54\n"
     ]
    }
   ],
   "source": [
    "%%capture\n",
    "%load_ext autoreload\n",
    "%autoreload 2\n",
    "from classes import Spectra, Observer, HiddenPrints"
   ]
  },
  {
   "cell_type": "code",
   "execution_count": 38,
   "id": "f29a3039",
   "metadata": {},
   "outputs": [],
   "source": [
    "%%capture\n",
    "#%% 1. create a spectrum\n",
    "my_spectrum = Spectra(name = 'NH3_Line_2928_nm')\n",
    "\n",
    "#%% 2. add an observer\n",
    "my_spectrum.observer = Observer(unit  = 'lam',      #'wav' : wavenumer [1/cm] | 'lam' : wavelength [nm]\n",
    "                                lower =  2927.5,    \n",
    "                                upper =  2929.5,   \n",
    "                                )\n",
    "#%% 3. add gas_cells (may consist of multiple gasses) with gasses\n",
    "# cell 0 - NH3 room conditions\n",
    "my_spectrum.add_gas_cell(temperature    = 296,          # K\n",
    "                         pressure       = 1,            # atm\n",
    "                         length         = 100,          # cm\n",
    "                         no_gasses      = 1)            # number of gasses\n",
    "my_spectrum.gas_cells[-1].add_gas(gas_name  = \"NH3\",    # as in hitran\n",
    "                                    VMR       = 0.5E-3)                                  \n",
    "# cell 1 - NH3 reference cell\n",
    "my_spectrum.add_gas_cell(temperature    = 296,          # K\n",
    "                         pressure       = 0.05,         # atm\n",
    "                         length         = 2,            # cm\n",
    "                         no_gasses      = 1)            # number of gasses)\n",
    "my_spectrum.gas_cells[-1].add_gas(gas_name  = \"NH3\",\n",
    "                                  VMR       = 50000E-6)\n",
    "\n",
    "#%% 4. download (running hapi functions)\n",
    "with HiddenPrints():            # disables hapi stdout\n",
    "    my_spectrum.download(line_list      = True,    #by setting to false, the linelist will nor be downloaded nor plotted.\n",
    "                          min_intensity = 5E-23 )   "
   ]
  },
  {
   "cell_type": "markdown",
   "id": "277b8ddc",
   "metadata": {},
   "source": [
    "To double check that everything is as desired, you can print a summary of your setup."
   ]
  },
  {
   "cell_type": "code",
   "execution_count": 39,
   "id": "22d0a6c1",
   "metadata": {},
   "outputs": [
    {
     "name": "stdout",
     "output_type": "stream",
     "text": [
      "Summary of the spectum NH3_Line_2928_nm: \n",
      "\t lower: 2925.0 [nm] \n",
      "\t upper: 2930.0 [nm] \n",
      "Gas cell 0: \n",
      "\t length: 100 cm | temp: 296 K|pressure: 1 atm \n",
      "\t Gasses: \n",
      "\t \t NH3: 0.0005 \n",
      "Gas cell 1: \n",
      "\t length: 2 cm | temp: 296 K|pressure: 0.05 atm \n",
      "\t Gasses: \n",
      "\t \t NH3: 0.05 \n",
      "\n"
     ]
    }
   ],
   "source": [
    "print(my_spectrum)"
   ]
  },
  {
   "cell_type": "markdown",
   "id": "7389c32a",
   "metadata": {},
   "source": [
    "The plot function may be adjusted to ones needs.\n",
    "If line list has not been downloaded (step 4), it will not be plotted."
   ]
  },
  {
   "cell_type": "code",
   "execution_count": 40,
   "id": "f754745a",
   "metadata": {},
   "outputs": [
    {
     "data": {
      "image/png": "[encoded data removed]",
      "text/plain": [
       "<Figure size 432x288 with 2 Axes>"
      ]
     },
     "metadata": {
      "needs_background": "light"
     },
     "output_type": "display_data"
    }
   ],
   "source": [
    "#%% 5. plot\n",
    "my_spectrum.plot()"
   ]
  },
  {
   "cell_type": "code",
   "execution_count": 73,
   "id": "6d3996c0",
   "metadata": {},
   "outputs": [],
   "source": [
    "#%% 6. export\n",
    "my_spectrum.export(directory = 'test')"
   ]
  }
 ],
 "metadata": {
  "kernelspec": {
   "display_name": "Python 3 (ipykernel)",
   "language": "python",
   "name": "python3"
  },
  "language_info": {
   "codemirror_mode": {
    "name": "ipython",
    "version": 3
   },
   "file_extension": ".py",
   "mimetype": "text/x-python",
   "name": "python",
   "nbconvert_exporter": "python",
   "pygments_lexer": "ipython3",
   "version": "3.8.3"
  }
 },
 "nbformat": 4,
 "nbformat_minor": 5
}
