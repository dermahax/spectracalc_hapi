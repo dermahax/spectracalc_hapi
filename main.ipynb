{
 "cells": [
  {
   "cell_type": "markdown",
   "id": "2acecad6",
   "metadata": {},
   "source": [
    "## Example usage to plot methane and water lines around 3270 nm"
   ]
  },
  {
   "cell_type": "markdown",
   "id": "549345a6",
   "metadata": {},
   "source": [
    "### Workflow \n",
    "\n",
    "     1. initiate a 'Spectra' object\n",
    "     2. add observer\n",
    "     3. add gass_cells & gasses\n",
    "     4. download data (runs the hapi functions)\n",
    "     5. plot\n",
    "    \n",
    "    comment: the arguments of the gas_cell method are the default values as on spectracalc.com\n",
    "             ! when using multiple gas cells, the spectra are calculated seperately and plotted on top of each other. (Not combined absorption as in spectracalc)"
   ]
  },
  {
   "cell_type": "code",
   "execution_count": 2,
   "id": "5c747b1f",
   "metadata": {},
   "outputs": [],
   "source": [
    "%%capture\n",
    "%load_ext autoreload\n",
    "%autoreload 2\n",
    "from classes import Spectra, Observer, HiddenPrints"
   ]
  },
  {
   "cell_type": "code",
   "execution_count": 3,
   "id": "f3a15136",
   "metadata": {},
   "outputs": [],
   "source": [
    "%%capture\n",
    "#%% 1. create a spectrum\n",
    "my_spectrum = Spectra(name = 'CH4_Lines_all')\n",
    "\n",
    "#%% 2. add an observer\n",
    "my_spectrum.observer = Observer(unit  = 'lam',      #'wav' : wavenumer [1/cm] | 'lam' : wavelength [nm].\n",
    "                                lower =  3100,    \n",
    "                                upper =  3500,   \n",
    "                                )\n",
    "#%% 3. add gas_cells (may consist of multiple gasses) with gasses\n",
    "# cell 0\n",
    "my_spectrum.add_gas_cell(temperature    = 296,          # K. Default is 296\n",
    "                         pressure       = 1,            # atm. Default is 1\n",
    "                         length         = 100,           # cm. Default is 10\n",
    "                         no_gasses      = 1)            # number of gasses. Default is 1\n",
    "\n",
    "my_spectrum.gas_cells[-1].add_gas(gas_name  = \"CH4\",    # as in hitran\n",
    "                                VMR        = 50E-6)    # E-6 = ppm \n",
    "\n",
    "# cell 1\n",
    "my_spectrum.add_gas_cell(temperature    = 296,          # K. Default is 296\n",
    "                         pressure       = 1,            # atm. Default is 1\n",
    "                         length         = 100,           # cm. Default is 10\n",
    "                         no_gasses      = 1)            # number of gasses. Default is 1\n",
    "my_spectrum.gas_cells[-1].add_gas(gas_name  = \"H2O\",    # as in hitran\n",
    "                                VMR        = 10000E-6)    # E-6 = ppm \n",
    "#%% 4. download (running hapi functions)\n",
    "my_spectrum.download(line_list = False,         # by setting to false, the linelist will nor be downloaded nor plotted.\n",
    "                     step      = 0.002         # The step size determines the resolution of the graph. It is in the unit of wavenumbers (1/cm).\n",
    "                    )  \n",
    "\n",
    "\n",
    "#%% 1. create a spectrum\n",
    "my_spectrum2 = Spectra(name = 'CH4_Lines_close_up')\n",
    "\n",
    "#%% 2. add an observer\n",
    "my_spectrum2.observer = Observer(unit  = 'lam',      #'wav' : wavenumer [1/cm] | 'lam' : wavelength [nm].\n",
    "                                lower =  3265,    \n",
    "                                upper =  3275,   \n",
    "                                )\n",
    "#%% 3. add gas_cells (may consist of multiple gasses) with gasses\n",
    "# cell 0\n",
    "my_spectrum2.add_gas_cell(temperature    = 296,          # K. Default is 296\n",
    "                         pressure       = 1,            # atm. Default is 1\n",
    "                         length         = 100,           # cm. Default is 10\n",
    "                         no_gasses      = 1)            # number of gasses. Default is 1\n",
    "\n",
    "my_spectrum2.gas_cells[-1].add_gas(gas_name  = \"CH4\",    # as in hitran\n",
    "                                VMR        = 50E-6)    # E-6 = ppm \n",
    "\n",
    "# cell 1\n",
    "my_spectrum2.add_gas_cell(temperature    = 296,          # K. Default is 296\n",
    "                         pressure       = 1,            # atm. Default is 1\n",
    "                         length         = 100,           # cm. Default is 10\n",
    "                         no_gasses      = 1)            # number of gasses. Default is 1\n",
    "my_spectrum2.gas_cells[-1].add_gas(gas_name  = \"H2O\",    # as in hitran\n",
    "                                VMR        = 10000E-6)    # E-6 = ppm \n",
    "\n",
    "\n",
    "#%% 4. download (running hapi functions)\n",
    "my_spectrum2.download(line_list = False,         # by setting to false, the linelist will nor be downloaded nor plotted.\n",
    "                     step      = 0.002         # The step size determines the resolution of the graph. It is in the unit of wavenumbers (1/cm).\n",
    "                    )  "
   ]
  },
  {
   "cell_type": "markdown",
   "id": "e76a7542",
   "metadata": {},
   "source": [
    "To double check that everything is as desired, you can print a summary of your setup."
   ]
  },
  {
   "cell_type": "markdown",
   "id": "b83a9a61",
   "metadata": {},
   "source": [
    "The plot function may be adjusted to ones needs.\n",
    "If line list has not been downloaded (step 4), it will not be plotted."
   ]
  },
  {
   "cell_type": "code",
   "execution_count": 1,
   "id": "4cb0b816",
   "metadata": {},
   "outputs": [
    {
     "ename": "NameError",
     "evalue": "name 'my_spectrum' is not defined",
     "output_type": "error",
     "traceback": [
      "\u001b[1;31m---------------------------------------------------------------------------\u001b[0m",
      "\u001b[1;31mNameError\u001b[0m                                 Traceback (most recent call last)",
      "Cell \u001b[1;32mIn[1], line 2\u001b[0m\n\u001b[0;32m      1\u001b[0m \u001b[38;5;66;03m#%% 5. plot\u001b[39;00m\n\u001b[1;32m----> 2\u001b[0m \u001b[43mmy_spectrum\u001b[49m\u001b[38;5;241m.\u001b[39mplot(figsize \u001b[38;5;241m=\u001b[39m (\u001b[38;5;241m16\u001b[39m,\u001b[38;5;241m8\u001b[39m),\n\u001b[0;32m      3\u001b[0m                  export \u001b[38;5;241m=\u001b[39m \u001b[38;5;28;01mTrue\u001b[39;00m,\n\u001b[0;32m      4\u001b[0m                  fontsize \u001b[38;5;241m=\u001b[39m \u001b[38;5;241m26\u001b[39m)\n\u001b[0;32m      5\u001b[0m my_spectrum2\u001b[38;5;241m.\u001b[39mplot(figsize \u001b[38;5;241m=\u001b[39m (\u001b[38;5;241m16\u001b[39m,\u001b[38;5;241m8\u001b[39m),\n\u001b[0;32m      6\u001b[0m                  export \u001b[38;5;241m=\u001b[39m \u001b[38;5;28;01mTrue\u001b[39;00m,\n\u001b[0;32m      7\u001b[0m                  fontsize \u001b[38;5;241m=\u001b[39m \u001b[38;5;241m26\u001b[39m)\n\u001b[0;32m      8\u001b[0m \u001b[38;5;28mprint\u001b[39m(my_spectrum)\n",
      "\u001b[1;31mNameError\u001b[0m: name 'my_spectrum' is not defined"
     ]
    }
   ],
   "source": [
    "#%% 5. plot\n",
    "my_spectrum.plot(figsize = (16,8),\n",
    "                 export = True,\n",
    "                 fontsize = 26)\n",
    "my_spectrum2.plot(figsize = (16,8),\n",
    "                 export = True,\n",
    "                 fontsize = 26)\n",
    "print(my_spectrum)"
   ]
  },
  {
   "cell_type": "code",
   "execution_count": 8,
   "id": "c44a4fa0",
   "metadata": {},
   "outputs": [
    {
     "name": "stdout",
     "output_type": "stream",
     "text": [
      "Using data\n",
      "\n",
      "CH4\n",
      "                     Lines parsed: 318\n",
      "CO\n",
      "                     Lines parsed: 13\n",
      "H2O\n",
      "                     Lines parsed: 79\n",
      "NH3\n",
      "                     Lines parsed: 34\n",
      "NO2\n",
      "                     Lines parsed: 66175\n"
     ]
    },
    {
     "ename": "KeyboardInterrupt",
     "evalue": "",
     "output_type": "error",
     "traceback": [
      "\u001b[1;31m---------------------------------------------------------------------------\u001b[0m",
      "\u001b[1;31mKeyboardInterrupt\u001b[0m                         Traceback (most recent call last)",
      "Cell \u001b[1;32mIn[8], line 4\u001b[0m\n\u001b[0;32m      1\u001b[0m \u001b[38;5;66;03m#%% 6. export\u001b[39;00m\n\u001b[0;32m      2\u001b[0m \u001b[38;5;66;03m# exports a text file containing the infomration about the spectrum and the gas cells.\u001b[39;00m\n\u001b[1;32m----> 4\u001b[0m \u001b[43mmy_spectrum\u001b[49m\u001b[38;5;241;43m.\u001b[39;49m\u001b[43mexport\u001b[49m\u001b[43m(\u001b[49m\u001b[43mdirectory\u001b[49m\u001b[43m \u001b[49m\u001b[38;5;241;43m=\u001b[39;49m\u001b[43m \u001b[49m\u001b[38;5;124;43m'\u001b[39;49m\u001b[38;5;124;43mexports\u001b[39;49m\u001b[38;5;124;43m'\u001b[39;49m\u001b[43m)\u001b[49m\n",
      "File \u001b[1;32m~\\OneDrive - Endress+Hauser\\Python\\hapi_1c\\spectracalc_hapi\\classes.py:323\u001b[0m, in \u001b[0;36mSpectra.export\u001b[1;34m(self, directory)\u001b[0m\n\u001b[0;32m    321\u001b[0m         \u001b[38;5;28;01melif\u001b[39;00m \u001b[38;5;28mself\u001b[39m\u001b[38;5;241m.\u001b[39mobserver\u001b[38;5;241m.\u001b[39munit \u001b[38;5;241m==\u001b[39m \u001b[38;5;124m'\u001b[39m\u001b[38;5;124mlam\u001b[39m\u001b[38;5;124m'\u001b[39m:\n\u001b[0;32m    322\u001b[0m             f\u001b[38;5;241m.\u001b[39mwritelines(\u001b[38;5;124m'\u001b[39m\u001b[38;5;130;01m\\n\u001b[39;00m\u001b[38;5;124m wavelenth [nm] \u001b[39m\u001b[38;5;130;01m\\t\u001b[39;00m\u001b[38;5;124m absorption\u001b[39m\u001b[38;5;130;01m\\n\u001b[39;00m\u001b[38;5;124m'\u001b[39m)\n\u001b[1;32m--> 323\u001b[0m             [f\u001b[38;5;241m.\u001b[39mwritelines(\u001b[38;5;28mstr\u001b[39m(lam) \u001b[38;5;241m+\u001b[39m\u001b[38;5;124m'\u001b[39m\u001b[38;5;130;01m\\t\u001b[39;00m\u001b[38;5;124m'\u001b[39m \u001b[38;5;241m+\u001b[39m\u001b[38;5;28mstr\u001b[39m(absorp_lam) \u001b[38;5;241m+\u001b[39m \u001b[38;5;124m'\u001b[39m\u001b[38;5;130;01m\\n\u001b[39;00m\u001b[38;5;124m'\u001b[39m) \u001b[38;5;28;01mfor\u001b[39;00m lam, absorp_lam \u001b[38;5;129;01min\u001b[39;00m \u001b[38;5;28mzip\u001b[39m(gas_cell\u001b[38;5;241m.\u001b[39mlam, gas_cell\u001b[38;5;241m.\u001b[39mabsorp_lam)] \n\u001b[0;32m    324\u001b[0m         \u001b[38;5;28;01melse\u001b[39;00m: \u001b[38;5;28mprint\u001b[39m(\u001b[38;5;124mf\u001b[39m\u001b[38;5;124m'\u001b[39m\u001b[38;5;132;01m{\u001b[39;00munit\u001b[38;5;132;01m}\u001b[39;00m\u001b[38;5;124m unit not known. Please use \u001b[39m\u001b[38;5;124m\"\u001b[39m\u001b[38;5;124mwav\u001b[39m\u001b[38;5;124m\"\u001b[39m\u001b[38;5;124m for wavenumber [1/cm] or \u001b[39m\u001b[38;5;124m\"\u001b[39m\u001b[38;5;124mlam\u001b[39m\u001b[38;5;124m\"\u001b[39m\u001b[38;5;124m for wavelength [nm] as argument for the observer\u001b[39m\u001b[38;5;124m'\u001b[39m)\n\u001b[0;32m    325\u001b[0m \u001b[38;5;28mprint\u001b[39m(\u001b[38;5;124mf\u001b[39m\u001b[38;5;124m'\u001b[39m\u001b[38;5;124mExported the absorption data to: \u001b[39m\u001b[38;5;132;01m{\u001b[39;00mdirectory\u001b[38;5;132;01m}\u001b[39;00m\u001b[38;5;124m'\u001b[39m)\n",
      "File \u001b[1;32m~\\OneDrive - Endress+Hauser\\Python\\hapi_1c\\spectracalc_hapi\\classes.py:323\u001b[0m, in \u001b[0;36m<listcomp>\u001b[1;34m(.0)\u001b[0m\n\u001b[0;32m    321\u001b[0m         \u001b[38;5;28;01melif\u001b[39;00m \u001b[38;5;28mself\u001b[39m\u001b[38;5;241m.\u001b[39mobserver\u001b[38;5;241m.\u001b[39munit \u001b[38;5;241m==\u001b[39m \u001b[38;5;124m'\u001b[39m\u001b[38;5;124mlam\u001b[39m\u001b[38;5;124m'\u001b[39m:\n\u001b[0;32m    322\u001b[0m             f\u001b[38;5;241m.\u001b[39mwritelines(\u001b[38;5;124m'\u001b[39m\u001b[38;5;130;01m\\n\u001b[39;00m\u001b[38;5;124m wavelenth [nm] \u001b[39m\u001b[38;5;130;01m\\t\u001b[39;00m\u001b[38;5;124m absorption\u001b[39m\u001b[38;5;130;01m\\n\u001b[39;00m\u001b[38;5;124m'\u001b[39m)\n\u001b[1;32m--> 323\u001b[0m             [\u001b[43mf\u001b[49m\u001b[38;5;241;43m.\u001b[39;49m\u001b[43mwritelines\u001b[49m\u001b[43m(\u001b[49m\u001b[38;5;28;43mstr\u001b[39;49m\u001b[43m(\u001b[49m\u001b[43mlam\u001b[49m\u001b[43m)\u001b[49m\u001b[43m \u001b[49m\u001b[38;5;241;43m+\u001b[39;49m\u001b[38;5;124;43m'\u001b[39;49m\u001b[38;5;130;43;01m\\t\u001b[39;49;00m\u001b[38;5;124;43m'\u001b[39;49m\u001b[43m \u001b[49m\u001b[38;5;241;43m+\u001b[39;49m\u001b[38;5;28;43mstr\u001b[39;49m\u001b[43m(\u001b[49m\u001b[43mabsorp_lam\u001b[49m\u001b[43m)\u001b[49m\u001b[43m \u001b[49m\u001b[38;5;241;43m+\u001b[39;49m\u001b[43m \u001b[49m\u001b[38;5;124;43m'\u001b[39;49m\u001b[38;5;130;43;01m\\n\u001b[39;49;00m\u001b[38;5;124;43m'\u001b[39;49m\u001b[43m)\u001b[49m \u001b[38;5;28;01mfor\u001b[39;00m lam, absorp_lam \u001b[38;5;129;01min\u001b[39;00m \u001b[38;5;28mzip\u001b[39m(gas_cell\u001b[38;5;241m.\u001b[39mlam, gas_cell\u001b[38;5;241m.\u001b[39mabsorp_lam)] \n\u001b[0;32m    324\u001b[0m         \u001b[38;5;28;01melse\u001b[39;00m: \u001b[38;5;28mprint\u001b[39m(\u001b[38;5;124mf\u001b[39m\u001b[38;5;124m'\u001b[39m\u001b[38;5;132;01m{\u001b[39;00munit\u001b[38;5;132;01m}\u001b[39;00m\u001b[38;5;124m unit not known. Please use \u001b[39m\u001b[38;5;124m\"\u001b[39m\u001b[38;5;124mwav\u001b[39m\u001b[38;5;124m\"\u001b[39m\u001b[38;5;124m for wavenumber [1/cm] or \u001b[39m\u001b[38;5;124m\"\u001b[39m\u001b[38;5;124mlam\u001b[39m\u001b[38;5;124m\"\u001b[39m\u001b[38;5;124m for wavelength [nm] as argument for the observer\u001b[39m\u001b[38;5;124m'\u001b[39m)\n\u001b[0;32m    325\u001b[0m \u001b[38;5;28mprint\u001b[39m(\u001b[38;5;124mf\u001b[39m\u001b[38;5;124m'\u001b[39m\u001b[38;5;124mExported the absorption data to: \u001b[39m\u001b[38;5;132;01m{\u001b[39;00mdirectory\u001b[38;5;132;01m}\u001b[39;00m\u001b[38;5;124m'\u001b[39m)\n",
      "\u001b[1;31mKeyboardInterrupt\u001b[0m: "
     ]
    }
   ],
   "source": [
    "#%% 6. export\n",
    "# exports a text file containing the infomration about the spectrum and the gas cells.\n",
    "\n",
    "my_spectrum.export(directory = 'exports') # default directory is 'exports'"
   ]
  },
  {
   "cell_type": "code",
   "execution_count": null,
   "id": "5c23da51",
   "metadata": {},
   "outputs": [],
   "source": []
  }
 ],
 "metadata": {
  "kernelspec": {
   "display_name": "hapi2_kernel",
   "language": "python",
   "name": "hapi2_kernel"
  },
  "language_info": {
   "codemirror_mode": {
    "name": "ipython",
    "version": 3
   },
   "file_extension": ".py",
   "mimetype": "text/x-python",
   "name": "python",
   "nbconvert_exporter": "python",
   "pygments_lexer": "ipython3",
   "version": "3.10.9"
  }
 },
 "nbformat": 4,
 "nbformat_minor": 5
}
