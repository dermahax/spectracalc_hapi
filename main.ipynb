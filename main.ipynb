{
 "cells": [
  {
   "cell_type": "markdown",
   "id": "bf0dc8c9",
   "metadata": {},
   "source": [
    "## Example usage -- plot methane and water lines around 3270 nm"
   ]
  },
  {
   "cell_type": "markdown",
   "id": "a7eefb77",
   "metadata": {},
   "source": [
    "### Workflow \n",
    "\n",
    "     1. initiate a 'Spectra' object\n",
    "     2. add observer\n",
    "     3. add gass_cells & gasses\n",
    "     4. download data (runs the hapi functions)\n",
    "     5. plot\n",
    "    \n",
    "    comment: the arguments of the gas_cell method are the default values as on spectracalc.com\n",
    "    when using multiple gas cells, the spectra are calculated seperately and plotted on top of each other. If you want the combined absorption of gasses, add them to one cell"
   ]
  },
  {
   "cell_type": "code",
   "execution_count": 1,
   "id": "70c2012b",
   "metadata": {},
   "outputs": [
    {
     "ename": "ModuleNotFoundError",
     "evalue": "No module named 'matplotlib'",
     "output_type": "error",
     "traceback": [
      "\u001b[1;31m---------------------------------------------------------------------------\u001b[0m",
      "\u001b[1;31mModuleNotFoundError\u001b[0m                       Traceback (most recent call last)",
      "Cell \u001b[1;32mIn[1], line 3\u001b[0m\n\u001b[0;32m      1\u001b[0m get_ipython()\u001b[38;5;241m.\u001b[39mrun_line_magic(\u001b[38;5;124m'\u001b[39m\u001b[38;5;124mload_ext\u001b[39m\u001b[38;5;124m'\u001b[39m, \u001b[38;5;124m'\u001b[39m\u001b[38;5;124mautoreload\u001b[39m\u001b[38;5;124m'\u001b[39m)\n\u001b[0;32m      2\u001b[0m get_ipython()\u001b[38;5;241m.\u001b[39mrun_line_magic(\u001b[38;5;124m'\u001b[39m\u001b[38;5;124mautoreload\u001b[39m\u001b[38;5;124m'\u001b[39m, \u001b[38;5;124m'\u001b[39m\u001b[38;5;124m2\u001b[39m\u001b[38;5;124m'\u001b[39m)\n\u001b[1;32m----> 3\u001b[0m \u001b[38;5;28;01mfrom\u001b[39;00m \u001b[38;5;21;01mclasses\u001b[39;00m \u001b[38;5;28;01mimport\u001b[39;00m Spectra, Observer, HiddenPrints\n",
      "File \u001b[1;32m~\\OneDrive - Endress+Hauser\\Python\\hapi_1c\\spectracalc_hapi\\classes.py:3\u001b[0m\n\u001b[0;32m      1\u001b[0m \u001b[38;5;66;03m# -*- coding: utf-8 -*-\u001b[39;00m\n\u001b[1;32m----> 3\u001b[0m \u001b[38;5;28;01mimport\u001b[39;00m \u001b[38;5;21;01mmatplotlib\u001b[39;00m\u001b[38;5;21;01m.\u001b[39;00m\u001b[38;5;21;01mpyplot\u001b[39;00m \u001b[38;5;28;01mas\u001b[39;00m \u001b[38;5;21;01mplt\u001b[39;00m\n\u001b[0;32m      5\u001b[0m plt\u001b[38;5;241m.\u001b[39mrcParams[\u001b[38;5;124m'\u001b[39m\u001b[38;5;124msvg.fonttype\u001b[39m\u001b[38;5;124m'\u001b[39m] \u001b[38;5;241m=\u001b[39m \u001b[38;5;124m'\u001b[39m\u001b[38;5;124mnone\u001b[39m\u001b[38;5;124m'\u001b[39m \u001b[38;5;66;03m# when exporting svg, keeps the text as text, not path\u001b[39;00m\n\u001b[0;32m      6\u001b[0m \u001b[38;5;28;01mimport\u001b[39;00m \u001b[38;5;21;01mos\u001b[39;00m\n",
      "\u001b[1;31mModuleNotFoundError\u001b[0m: No module named 'matplotlib'"
     ]
    }
   ],
   "source": [
    "%%capture\n",
    "%load_ext autoreload\n",
    "%autoreload 2\n",
    "from classes import Spectra, Observer, HiddenPrints"
   ]
  },
  {
   "cell_type": "code",
   "execution_count": 2,
   "id": "3d982309",
   "metadata": {},
   "outputs": [
    {
     "ename": "NameError",
     "evalue": "name 'Spectra' is not defined",
     "output_type": "error",
     "traceback": [
      "\u001b[1;31m---------------------------------------------------------------------------\u001b[0m",
      "\u001b[1;31mNameError\u001b[0m                                 Traceback (most recent call last)",
      "Cell \u001b[1;32mIn[2], line 2\u001b[0m\n\u001b[0;32m      1\u001b[0m \u001b[38;5;66;03m#%% 1. create a spectrum\u001b[39;00m\n\u001b[1;32m----> 2\u001b[0m my_spectrum \u001b[38;5;241m=\u001b[39m Spectra(name \u001b[38;5;241m=\u001b[39m \u001b[38;5;124m'\u001b[39m\u001b[38;5;124mCH4_Lines_all\u001b[39m\u001b[38;5;124m'\u001b[39m)\n\u001b[0;32m      4\u001b[0m \u001b[38;5;66;03m#%% 2. add an observer\u001b[39;00m\n\u001b[0;32m      5\u001b[0m my_spectrum\u001b[38;5;241m.\u001b[39mobserver \u001b[38;5;241m=\u001b[39m Observer(unit  \u001b[38;5;241m=\u001b[39m \u001b[38;5;124m'\u001b[39m\u001b[38;5;124mlam\u001b[39m\u001b[38;5;124m'\u001b[39m,      \u001b[38;5;66;03m#'wav' : wavenumer [1/cm] | 'lam' : wavelength [nm].\u001b[39;00m\n\u001b[0;32m      6\u001b[0m                                 lower \u001b[38;5;241m=\u001b[39m  \u001b[38;5;241m3100\u001b[39m,    \n\u001b[0;32m      7\u001b[0m                                 upper \u001b[38;5;241m=\u001b[39m  \u001b[38;5;241m3500\u001b[39m,   \n\u001b[0;32m      8\u001b[0m                                 )\n",
      "\u001b[1;31mNameError\u001b[0m: name 'Spectra' is not defined"
     ]
    }
   ],
   "source": [
    "%%capture\n",
    "#%% 1. create a spectrum\n",
    "my_spectrum = Spectra(name = 'CH4_Lines_all')\n",
    "\n",
    "#%% 2. add an observer\n",
    "my_spectrum.observer = Observer(unit  = 'lam',      #'wav' : wavenumer [1/cm] | 'lam' : wavelength [nm].\n",
    "                                lower =  3100,    \n",
    "                                upper =  3500,   \n",
    "                                )\n",
    "#%% 3. add gas_cells and fill with gasses\n",
    "# cell 0 - H20\n",
    "my_spectrum.add_gas_cell(temperature    = 296,          # K. Default is 296\n",
    "                         pressure       = 1,            # atm. Default is 1\n",
    "                         length         = 100,          # cm. Default is 10\n",
    "                         no_gasses      = 1)            # number of gasses. Default is 1\n",
    "my_spectrum.gas_cells[-1].add_gas(gas_name  = \"H2O\",    # as in hitran\n",
    "                                  VMR        = 1E-2)    # E-6 = ppm  | E-2 = %\n",
    "# cell 1 - CH4\n",
    "my_spectrum.add_gas_cell(temperature    = 296,          # K. Default is 296\n",
    "                         pressure       = 1,            # atm. Default is 1\n",
    "                         length         = 100,          # cm. Default is 10\n",
    "                         no_gasses      = 1)            # number of gasses. Default is 1\n",
    "my_spectrum.gas_cells[-1].add_gas(gas_name  = \"CH4\",    # as in hitran\n",
    "                                  VMR        = 50E-6)   # E-6 = ppm \n",
    "\n",
    "\n",
    "#%% 4. download (running hapi functions)\n",
    "my_spectrum.download(line_list = False,         # by setting to false, the linelist will nor be downloaded nor plotted.\n",
    "                     step      = 0.01         # The step size determines the resolution of the graph. It is in the unit of wavenumbers (1/cm).\n",
    "                     )  \n"
   ]
  },
  {
   "cell_type": "markdown",
   "id": "672c232c",
   "metadata": {},
   "source": [
    "To double check that everything is as desired, you can print a summary of your setup."
   ]
  },
  {
   "cell_type": "markdown",
   "id": "e6659278",
   "metadata": {},
   "source": [
    "The plot function may be adjusted to ones needs.\n",
    "If line list has not been downloaded (step 4), it will not be plotted."
   ]
  },
  {
   "cell_type": "code",
   "execution_count": 3,
   "id": "350597ee",
   "metadata": {},
   "outputs": [
    {
     "ename": "NameError",
     "evalue": "name 'my_spectrum' is not defined",
     "output_type": "error",
     "traceback": [
      "\u001b[1;31m---------------------------------------------------------------------------\u001b[0m",
      "\u001b[1;31mNameError\u001b[0m                                 Traceback (most recent call last)",
      "Cell \u001b[1;32mIn[3], line 2\u001b[0m\n\u001b[0;32m      1\u001b[0m \u001b[38;5;66;03m#%% 5. plot\u001b[39;00m\n\u001b[1;32m----> 2\u001b[0m my_spectrum\u001b[38;5;241m.\u001b[39mplot(\u001b[38;5;66;03m#figsize = (16,8), # in inches\u001b[39;00m\n\u001b[0;32m      3\u001b[0m                  export \u001b[38;5;241m=\u001b[39m \u001b[38;5;28;01mTrue\u001b[39;00m, \u001b[38;5;66;03m# saves the plot as pdf and svg\u001b[39;00m\n\u001b[0;32m      4\u001b[0m                  absorbance \u001b[38;5;241m=\u001b[39m \u001b[38;5;28;01mFalse\u001b[39;00m,  \u001b[38;5;66;03m# set to True to plot Absorbance instead of Absorption\u001b[39;00m\n\u001b[0;32m      5\u001b[0m                  fontsize \u001b[38;5;241m=\u001b[39m \u001b[38;5;241m10\u001b[39m,\n\u001b[0;32m      6\u001b[0m                  color \u001b[38;5;241m=\u001b[39m \u001b[38;5;28;01mNone\u001b[39;00m, \u001b[38;5;66;03m# you can set a plot style like 'seaborn-v0_8-whitegrid' or a single color like 'orange' (when only plotting one line)\u001b[39;00m\n\u001b[0;32m      7\u001b[0m                  )\n\u001b[0;32m      9\u001b[0m \u001b[38;5;28mprint\u001b[39m(my_spectrum)\n",
      "\u001b[1;31mNameError\u001b[0m: name 'my_spectrum' is not defined"
     ]
    }
   ],
   "source": [
    "#%% 5. plot\n",
    "my_spectrum.plot(#figsize = (16,8), # in inches\n",
    "                 export = True, # saves the plot as pdf and svg\n",
    "                 absorbance = False,  # set to True to plot Absorbance instead of Absorption\n",
    "                 fontsize = 10,\n",
    "                 color = None, # you can set a plot style like 'seaborn-v0_8-whitegrid' or a single color like 'orange' (when only plotting one line)\n",
    "                 )\n",
    "\n",
    "print(my_spectrum)"
   ]
  },
  {
   "cell_type": "code",
   "execution_count": null,
   "id": "67cabea5",
   "metadata": {},
   "outputs": [],
   "source": [
    "#%% 6. export\n",
    "# exports a text file containing the infomration about the spectrum and the gas cells.\n",
    "\n",
    "my_spectrum.export(directory = 'exports') # default directory is 'exports'"
   ]
  }
 ],
 "metadata": {
  "kernelspec": {
   "display_name": "hapi",
   "language": "python",
   "name": "hapi"
  },
  "language_info": {
   "codemirror_mode": {
    "name": "ipython",
    "version": 3
   },
   "file_extension": ".py",
   "mimetype": "text/x-python",
   "name": "python",
   "nbconvert_exporter": "python",
   "pygments_lexer": "ipython3",
   "version": "3.12.2"
  }
 },
 "nbformat": 4,
 "nbformat_minor": 5
}
