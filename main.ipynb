{
 "cells": [
  {
   "cell_type": "markdown",
   "id": "c591402c",
   "metadata": {},
   "source": [
    "## Example usage to plot methane and water lines around 3270 nm"
   ]
  },
  {
   "cell_type": "markdown",
   "id": "ad4a6a8c",
   "metadata": {},
   "source": [
    "### Workflow \n",
    "\n",
    "     1. initiate a 'Spectra' object\n",
    "     2. add observer\n",
    "     3. add gass_cells & gasses\n",
    "     4. download data (runs the hapi functions)\n",
    "     5. plot\n",
    "    \n",
    "    comment: the arguments of the gas_cell method are the default values as on spectracalc.com\n",
    "             ! when using multiple gas cells, the spectra are calculated seperately and plotted on top of each other. (Not combined absorption as in spectracalc)"
   ]
  },
  {
   "cell_type": "code",
   "execution_count": 2,
   "id": "eb6b0612",
   "metadata": {},
   "outputs": [],
   "source": [
    "%%capture\n",
    "%load_ext autoreload\n",
    "%autoreload 2\n",
    "from classes import Spectra, Observer, HiddenPrints"
   ]
  },
  {
   "cell_type": "code",
   "execution_count": 3,
   "id": "c4a2f0f4",
   "metadata": {},
   "outputs": [],
   "source": [
    "%%capture\n",
    "#%% 1. create a spectrum\n",
    "my_spectrum = Spectra(name = 'NH3_linien')\n",
    "\n",
    "#%% 2. add an observer\n",
    "my_spectrum.observer = Observer(unit  = 'lam',      #'wav' : wavenumer [1/cm] | 'lam' : wavelength [nm]\n",
    "                                lower =  2924.0,    \n",
    "                                upper =  2933.0,   \n",
    "                                )\n",
    "#%% 3. add gas_cells (may consist of multiple gasses) with gasses\n",
    "# cell 0\n",
    "my_spectrum.add_gas_cell(temperature    = 296,          # K. Default is 296\n",
    "                         pressure       = 1,            # atm. Default is 1\n",
    "                         length         = 100,           # cm. Default is 10\n",
    "                         no_gasses      = 1)            # number of gasses. Default is 1\n",
    "\n",
    "my_spectrum.gas_cells[-1].add_gas(gas_name  = \"NH3\",    # as in hitran\n",
    "                                VMR        = 200E-6)    # E-6 = ppm \n",
    "\n",
    "my_spectrum.add_gas_cell(length = 100)\n",
    "my_spectrum.gas_cells[-1].add_gas(gas_name  = \"H2O\",    # as in hitran\n",
    "                                  VMR        = 1E-2)    # E-6 = ppm \n",
    "\n",
    "\n",
    "#%% 4. download (running hapi functions)\n",
    "with HiddenPrints():            # disables hapi stdout\n",
    "    my_spectrum.download(line_list=True,         # by setting to false, the linelist will nor be downloaded nor plotted.\n",
    "                         min_intensity = 5E-23)  # default is 5E-23. This is "
   ]
  },
  {
   "cell_type": "markdown",
   "id": "1040f215",
   "metadata": {},
   "source": [
    "To double check that everything is as desired, you can print a summary of your setup."
   ]
  },
  {
   "cell_type": "markdown",
   "id": "e647bd95",
   "metadata": {},
   "source": [
    "The plot function may be adjusted to ones needs.\n",
    "If line list has not been downloaded (step 4), it will not be plotted."
   ]
  },
  {
   "cell_type": "code",
   "execution_count": null,
   "id": "45bbc1fb",
   "metadata": {},
   "outputs": [
    {
     "name": "stdout",
     "output_type": "stream",
     "text": [
      "Using data\n",
      "\n",
      "CH4\n",
      "                     Lines parsed: 33\n",
      "H2O\n",
      "                     Lines parsed: 194\n",
      "NH3\n",
      "                     Lines parsed: 101\n",
      "NO2\n",
      "                     Lines parsed: 66175\n",
      "Summary of the spectum NH3_linien: \n",
      "\t lower: 2924.0 [nm] \n",
      "\t upper: 2933.0 [nm] \n",
      "Gas cell 0: \n",
      "\t length: 100 cm | temp: 296 K|pressure: 1 atm|gas matrix: {'air': 0.9998, 'self': 0.0002} \n",
      "\t Gasses (VMR): \n",
      "\t \t NH3: 0.0002 \n",
      "Gas cell 1: \n",
      "\t length: 100 cm | temp: 296 K|pressure: 1 atm|gas matrix: {'air': 0.99, 'self': 0.01} \n",
      "\t Gasses (VMR): \n",
      "\t \t H2O: 0.01 \n",
      "\n"
     ]
    }
   ],
   "source": [
    "#%% 5. plot\n",
    "my_spectrum.plot(figsize = (12,8),\n",
    "                 export = True)\n",
    "print(my_spectrum)"
   ]
  },
  {
   "cell_type": "code",
   "execution_count": 5,
   "id": "01286bc7",
   "metadata": {},
   "outputs": [],
   "source": [
    "#%% 6. export\n",
    "my_spectrum.export(directory = 'exports') # default directory is 'exports'"
   ]
  },
  {
   "cell_type": "code",
   "execution_count": null,
   "id": "a56a9a1a",
   "metadata": {},
   "outputs": [],
   "source": []
  }
 ],
 "metadata": {
  "kernelspec": {
   "display_name": "hapi2_kernel",
   "language": "python",
   "name": "hapi2_kernel"
  },
  "language_info": {
   "codemirror_mode": {
    "name": "ipython",
    "version": 3
   },
   "file_extension": ".py",
   "mimetype": "text/x-python",
   "name": "python",
   "nbconvert_exporter": "python",
   "pygments_lexer": "ipython3",
   "version": "3.10.9"
  }
 },
 "nbformat": 4,
 "nbformat_minor": 5
}
