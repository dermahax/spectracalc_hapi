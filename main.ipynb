{
 "cells": [
  {
   "cell_type": "markdown",
   "id": "b89cb258",
   "metadata": {},
   "source": [
    "## Example usage to plot methane and water lines around 3270 nm"
   ]
  },
  {
   "cell_type": "code",
   "execution_count": 54,
   "id": "9dc87468",
   "metadata": {},
   "outputs": [],
   "source": [
    "%%capture\n",
    "%load_ext autoreload\n",
    "%autoreload 2\n",
    "from classes import Spectra, Observer, HiddenPrints"
   ]
  },
  {
   "cell_type": "markdown",
   "id": "96c1a2d3",
   "metadata": {},
   "source": [
    "### Workflow \n",
    "\n",
    "    # 1. initiate a spectra-object\n",
    "    # 2. add observer\n",
    "    # 3. add gass_cells & gasses\n",
    "    # 4. download data (runs the hapi functions)\n",
    "    # 5. plot\n",
    "    \n",
    "    comment: the arguments of the gas_cell method are the default values as on spectracalc.com, but can be adjusted."
   ]
  },
  {
   "cell_type": "code",
   "execution_count": 55,
   "id": "45c9f675",
   "metadata": {},
   "outputs": [],
   "source": [
    "%%capture\n",
    "#%% 1. create a spectrum\n",
    "my_spectrum = Spectra(name = 'Methane_Line_3270_nm')\n",
    "\n",
    "#%% 2. add an observer\n",
    "my_spectrum.observer = Observer(unit  = 'lam',      #'wav' : wavenumer [1/cm]. 'lam' : wavelength [nm]\n",
    "                                lower =  3258.0,    \n",
    "                                upper =  3263.0,   \n",
    "                                )\n",
    "#%% 3. add gas_cells (may consist of multiple gasses) with gasses\n",
    "# cell 0\n",
    "my_spectrum.add_gas_cell(temperature    = 296,          # K\n",
    "                         pressure       = 1,            # atm\n",
    "                         length         = 100,          # cm\n",
    "                         no_gasses      = 1)            # number of gasses\n",
    "my_spectrum.gas_cells[-1].add_gas(gas_name  = \"H2O\",    # as in hitran\n",
    "                                    VMR       = 1E-2)                                  \n",
    "# cell 1\n",
    "my_spectrum.add_gas_cell()\n",
    "my_spectrum.gas_cells[-1].add_gas(gas_name  = \"CH4\",\n",
    "                                  VMR       = 100E-6)\n",
    "\n",
    "#%% 4. download (running hapi functions)\n",
    "with HiddenPrints():            # disables hapi stdout\n",
    "    my_spectrum.download(line_list=True)  # by setting line_list to false,\n",
    "                                          # the linelist will nor be downloaded nor plotted."
   ]
  },
  {
   "cell_type": "markdown",
   "id": "8b8e84b9",
   "metadata": {},
   "source": [
    "To double check that everything is as desired, you can print a summary of your setup."
   ]
  },
  {
   "cell_type": "code",
   "execution_count": 56,
   "id": "dc3db846",
   "metadata": {},
   "outputs": [
    {
     "name": "stdout",
     "output_type": "stream",
     "text": [
      "##################################### \n",
      "Summary of the spectum Methane_Line_3270_nm: \n",
      "\t lower: 3258.0 [nm] \n",
      "\t upper: 3263.0 [nm] \n",
      "Gas cell 0: \n",
      "\t length: 100 cm | temp: 296 K|pressure: 1 atm \n",
      "\t Gasses: \n",
      "\t \t H2O: 0.01 \n",
      "Gas cell 1: \n",
      "\t length: 10 cm | temp: 296 K|pressure: 1 atm \n",
      "\t Gasses: \n",
      "\t \t CH4: 0.0001 \n",
      "\n"
     ]
    }
   ],
   "source": [
    "print(my_spectrum)"
   ]
  },
  {
   "cell_type": "markdown",
   "id": "70632d72",
   "metadata": {},
   "source": [
    "The plot function may be adjusted to ones needs.\n",
    "If line list has not been downloaded (step 4), it will not be plotted."
   ]
  },
  {
   "cell_type": "code",
   "execution_count": 57,
   "id": "9c251d03",
   "metadata": {},
   "outputs": [
    {
     "data": {
      "image/png": "[encoded data removed]",
      "text/plain": [
       "<Figure size 432x288 with 2 Axes>"
      ]
     },
     "metadata": {
      "needs_background": "light"
     },
     "output_type": "display_data"
    }
   ],
   "source": [
    "#%% 5. plot\n",
    "my_spectrum.plot()"
   ]
  },
  {
   "cell_type": "code",
   "execution_count": null,
   "id": "995514d1",
   "metadata": {},
   "outputs": [],
   "source": []
  }
 ],
 "metadata": {
  "kernelspec": {
   "display_name": "Python 3 (ipykernel)",
   "language": "python",
   "name": "python3"
  },
  "language_info": {
   "codemirror_mode": {
    "name": "ipython",
    "version": 3
   },
   "file_extension": ".py",
   "mimetype": "text/x-python",
   "name": "python",
   "nbconvert_exporter": "python",
   "pygments_lexer": "ipython3",
   "version": "3.8.3"
  }
 },
 "nbformat": 4,
 "nbformat_minor": 5
}
